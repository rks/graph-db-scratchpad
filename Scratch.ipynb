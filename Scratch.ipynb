{
 "cells": [
  {
   "cell_type": "code",
   "execution_count": 13,
   "metadata": {},
   "outputs": [
    {
     "name": "stdout",
     "output_type": "stream",
     "text": [
      " Title                           \n",
      "---------------------------------\n",
      " One Flew Over the Cuckoo's Nest \n",
      " Top Gun                         \n",
      "\n"
     ]
    }
   ],
   "source": [
    "import decouple\n",
    "from py2neo import Graph\n",
    "\n",
    "# Workaround due to how Jupyter kernels get created\n",
    "config = decouple.AutoConfig(' ')\n",
    "\n",
    "url = config('NEO4J_URL')\n",
    "username = config('NEO4J_USERNAME')\n",
    "password = config('NEO4J_PASSWORD')\n",
    "\n",
    "graph = Graph(url, auth=(username, password))\n",
    "\n",
    "# Get the first two movie titles for movies released before 2010\n",
    "query = \"Match (m:Movie) WHERE m.released < 2010 RETURN m.title AS Title LIMIT 2\"\n",
    "\n",
    "print(graph.run(query))"
   ]
  }
 ],
 "metadata": {
  "interpreter": {
   "hash": "aee8b7b246df8f9039afb4144a1f6fd8d2ca17a180786b69acc140d282b71a49"
  },
  "kernelspec": {
   "display_name": "Python 3.9.10 64-bit",
   "language": "python",
   "name": "python3"
  },
  "language_info": {
   "codemirror_mode": {
    "name": "ipython",
    "version": 3
   },
   "file_extension": ".py",
   "mimetype": "text/x-python",
   "name": "python",
   "nbconvert_exporter": "python",
   "pygments_lexer": "ipython3",
   "version": "3.10.2"
  },
  "orig_nbformat": 4
 },
 "nbformat": 4,
 "nbformat_minor": 2
}
